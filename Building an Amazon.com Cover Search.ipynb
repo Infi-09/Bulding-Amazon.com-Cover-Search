{
 "cells": [
  {
   "cell_type": "code",
   "execution_count": 1,
   "id": "8fb45369",
   "metadata": {},
   "outputs": [],
   "source": [
    "# Import the libraries\n",
    "import os\n",
    "import cv2\n",
    "import csv\n",
    "import numpy as np"
   ]
  },
  {
   "cell_type": "code",
   "execution_count": 2,
   "id": "ff13b895",
   "metadata": {},
   "outputs": [],
   "source": [
    "# CoverDescriptor (Extract the Keypoints and the Descriptor from an image)\n",
    "class CoverDescriptor:\n",
    "    def __inti__(self, useSIFT=False):\n",
    "        self.useSIFT = useSIFT\n",
    "        \n",
    "    def describe(self, image):\n",
    "        # BRISK Descriptor\n",
    "        descriptor = cv2.BRISK_create()\n",
    "        # If True using SIFT Descriptor\n",
    "        #if self.useSIFT:\n",
    "            #descriptor = cv2.xfeatures2d.SIFT_create()\n",
    "        \n",
    "        # Computing the keypoints and the descriptor for an image    \n",
    "        (kps, descs) = descriptor.detectAndCompute(image, None)\n",
    "        # Extracting only the points using .pt in the Keypoints\n",
    "        kps = np.float32([kp.pt for kp in kps])\n",
    "        \n",
    "        return (kps, descs)"
   ]
  },
  {
   "cell_type": "code",
   "execution_count": 3,
   "id": "d58428b0",
   "metadata": {},
   "outputs": [],
   "source": [
    "# CoverMatcher ()\n",
    "class CoverMatcher:\n",
    "    def __init__(self, descriptor, coverPaths, ratio=0.7, minMatches=40, useHamming=True):\n",
    "        self.descriptor = descriptor\n",
    "        self.coverPaths = coverPaths\n",
    "        self.ratio = ratio\n",
    "        self.minMatches  = minMatches\n",
    "        self.distanceMethod = \"BruteForce\"\n",
    "        \n",
    "        if useHamming:\n",
    "            self.distanceMethod += \"-Hamming\"\n",
    "            \n",
    "    def search(self, queryKps, queryDescs):\n",
    "        results = {}\n",
    "        \n",
    "        for coverPath in coverPaths:\n",
    "            image = cv2.imread(coverPath)\n",
    "            gray = cv2.cvtColor(image, cv2.COLOR_BGR2GRAY)\n",
    "            \n",
    "            (kps, descs) = self.descriptor.describe(gray)\n",
    "            \n",
    "            score = self.match(queryKps, queryDescs, kps, descs)\n",
    "            results[coverPath] = score\n",
    "            \n",
    "            if len(results) > 0:\n",
    "                results = sorted([(v, k) for (k, v) in results.items() if v>0], reverse=True)\n",
    "                return results\n",
    "     \n",
    "    def match(self, kpsA, featuresA, kpsB, featuresB):\n",
    "        matcher = cv2.DescriptorMatcher_create(self.distanceMethod)\n",
    "        rawMatches = matcher.knnMatch(featuresA, featuresB, 2)\n",
    "        \n",
    "        matches = []\n",
    "        \n",
    "        for m in rawMatches:\n",
    "            if len(m) == 2 and m[0].distance > m[1].distance * self.ratio:\n",
    "                matches.append((m[0].trainIdx, m[0].queryIdx))\n",
    "                \n",
    "        if len(matches) > self.minMatches:\n",
    "            ptsA = np.float32([kpsA[i] for (i, _) in matches])\n",
    "            ptsB = np.float32([kpsA[j] for (_, j) in matches])\n",
    "            \n",
    "            (_, status) = cv2.findHomography(ptsA, ptsB, cv2.RANSAC, 4.0)\n",
    "            \n",
    "            return float(status.sum()) / status.size\n",
    "        \n",
    "        return -1.0"
   ]
  },
  {
   "cell_type": "code",
   "execution_count": 4,
   "id": "76dc372a",
   "metadata": {},
   "outputs": [],
   "source": [
    "db = {}\n",
    "\n",
    "for l in csv.reader(open(\"data/books.csv\")):\n",
    "    db[l[-1]] = l[1:3]"
   ]
  },
  {
   "cell_type": "code",
   "execution_count": 5,
   "id": "a3a11053",
   "metadata": {},
   "outputs": [
    {
     "data": {
      "text/plain": [
       "'data/covers/0000001.jpg'"
      ]
     },
     "execution_count": 5,
     "metadata": {},
     "output_type": "execute_result"
    }
   ],
   "source": [
    "coverPaths = []\n",
    "\n",
    "for path in os.listdir(\"data/covers\"):\n",
    "    coverPaths.append(\"data/covers/\"+path)\n",
    "coverPaths[0]    "
   ]
  },
  {
   "cell_type": "code",
   "execution_count": 7,
   "id": "80150eeb",
   "metadata": {},
   "outputs": [],
   "source": [
    "useSIFT = False\n",
    "useHamming = True\n",
    "ratio = 0.7\n",
    "minMatches = 40\n",
    "\n",
    "if useSIFT:\n",
    "    minMatches=50"
   ]
  },
  {
   "cell_type": "code",
   "execution_count": null,
   "id": "e152dce6",
   "metadata": {},
   "outputs": [
    {
     "name": "stdout",
     "output_type": "stream",
     "text": [
      "1. 3.27% : Robert C. Martin - Clean Code\n"
     ]
    }
   ],
   "source": [
    "cd = CoverDescriptor()\n",
    "cv = CoverMatcher(cd, coverPaths, ratio=ratio, minMatches=minMatches, useHamming=useHamming)\n",
    "\n",
    "queryImage = cv2.imread(\"data/query/query3.jpg\")\n",
    "gray = cv2.cvtColor(queryImage, cv2.COLOR_BGR2GRAY)\n",
    "(queryKps, queryDescs) = cd.describe(gray)\n",
    "\n",
    "results = cv.search(queryKps, queryDescs)\n",
    "cv2.imshow(\"Query\", queryImage)\n",
    "\n",
    "if len (results) == 0:\n",
    "    print(\"I could not find a match for that cover!\" )\n",
    "    cv2.waitKey(0)\n",
    "else:\n",
    "    for (i, (score, coverPath)) in enumerate(results):\n",
    "        (author, title) = db[coverPath]\n",
    "        print(\"{}. {:.2f}% : {} - {}\" .format(i + 1, score * 100, author, title))\n",
    "    \n",
    "        result = cv2.imread(coverPath)\n",
    "        cv2.imshow(\"Result\", result)\n",
    "        cv2.waitKey(0)"
   ]
  },
  {
   "cell_type": "code",
   "execution_count": null,
   "id": "c0af9065",
   "metadata": {},
   "outputs": [],
   "source": []
  }
 ],
 "metadata": {
  "kernelspec": {
   "display_name": "Python 3",
   "language": "python",
   "name": "python3"
  },
  "language_info": {
   "codemirror_mode": {
    "name": "ipython",
    "version": 3
   },
   "file_extension": ".py",
   "mimetype": "text/x-python",
   "name": "python",
   "nbconvert_exporter": "python",
   "pygments_lexer": "ipython3",
   "version": "3.8.8"
  }
 },
 "nbformat": 4,
 "nbformat_minor": 5
}
